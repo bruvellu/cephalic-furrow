{
 "cells": [
  {
   "cell_type": "markdown",
   "metadata": {},
   "source": [
    "# Calculations"
   ]
  },
  {
   "cell_type": "code",
   "execution_count": 1,
   "metadata": {},
   "outputs": [],
   "source": [
    "def get_Kb_star(Kb, Ks, L):\n",
    "    return Kb/(Ks*L*L)"
   ]
  },
  {
   "cell_type": "code",
   "execution_count": 14,
   "metadata": {},
   "outputs": [],
   "source": [
    "L = 255*10**-6 #m Drosophila egg semi major axis (updated based on Markow et al. 2009)\n",
    "Kb_mdck = 5*10**-13 #Nm Trushko Table1\n",
    "Ks_mdck = 0.15 #Nm-1 Trushko Table1"
   ]
  },
  {
   "cell_type": "code",
   "execution_count": 16,
   "metadata": {},
   "outputs": [
    {
     "name": "stdout",
     "output_type": "stream",
     "text": [
      "Kb_mdck_corrected: 2e-12\n",
      "Kb_star_mdck_corrected: 0.00020504933999743692\n"
     ]
    }
   ],
   "source": [
    "h_mdck = 20*10**-6 #m #Trushko Method S1, Section 2\n",
    "h_blast = 40*10**-6 #m #Drosophila monolayer thickness\n",
    "Kb_mdck_corrected = Kb_mdck*((h_blast/h_mdck)**2)\n",
    "Kb_star_mdck_corrected = get_Kb_star(Kb_mdck_corrected, Ks_mdck, L)\n",
    "print(\"Kb_mdck_corrected:\", Kb_mdck_corrected)\n",
    "print(\"Kb_star_mdck_corrected:\", Kb_star_mdck_corrected)"
   ]
  },
  {
   "cell_type": "markdown",
   "metadata": {},
   "source": [
    "# Text for Supplementary\n",
    "\n",
    "Trushko et al reports $K_b = 5\\times10^{-13} Nm$ and $K_s = 0.15 Nm^{-1}$ for MDCK monolayer tissue. From these values, we can compute the dimensionless bending rigidity $K_b^*$ and compare them with the $K_b^*$ that we estimate for the Drosophila blastoderm. \n",
    "However, the thickness of the MDCK monolayer and the Drosophila blastoderm are quite different and hence we need to correct for this before computing $K_b^*$ for MDCK monolayer. \n",
    "\n",
    "The bending rigidity scales with square of the thickness of the tissue. Hence the corrected $K_b$ can be computed as $K_b^{'} = K_b*(h_{blastoderm}/h_{MDCK})^2$. This gives us $K_b^{'} =2\\times10^{-12} Nm$. Now we can compute $K_b^* = K_b^{'}/K_s L^2$ where we put $L = 255\\mu m$. Here we scale $K_b^{'}/K_s$ by the relevant lengthscale which is the semi-major axis of the Drosophila embryo. This gives us $K_b^* = 2.05\\times 10^{-4}$. This is the estimated $K_b^*$ for the MDCK monolayer that has the same thickness as the Drosophila blastoderm (referring to the height correction) and has been put in the same geometrical conditions as the Drosophila blastoderm (referring to the $L$ used in the calculation).\n",
    "\n",
    "Note to Bruno: \n",
    "\n",
    "- Why I used L from drosophila blastoderm in this calculation? Basically, what I am doing here is taking the MDCK tissue from the Trushko paper and putting it in the same geometrical setting as in the drosophila embryo. Hence while Kb and Ks are taken from MDCK trushko measurements, L is taken from the drosophila. Hope that is clear from the text.\n",
    "- L is the semi major axis of the Drosophila embryo. I kept this as 300 um. I dont remember the exact value. Feel free to run the code above and get more precise values.\n",
    "- h_blastoderm I kept as 40um. Feel free to change it to a more precise value\n",
    "\n",
    "Note by Bruno:\n",
    "\n",
    "- I updated the semi major axis (L) to 255 as Drosophila melanogaster egg size is 510µm (Markow et al. 2009 and our own measurements)."
   ]
  }
 ],
 "metadata": {
  "kernelspec": {
   "display_name": "Python 3 (ipykernel)",
   "language": "python",
   "name": "python3"
  },
  "language_info": {
   "codemirror_mode": {
    "name": "ipython",
    "version": 3
   },
   "file_extension": ".py",
   "mimetype": "text/x-python",
   "name": "python",
   "nbconvert_exporter": "python",
   "pygments_lexer": "ipython3",
   "version": "3.10.12"
  }
 },
 "nbformat": 4,
 "nbformat_minor": 4
}
