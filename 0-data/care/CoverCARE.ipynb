{
 "cells": [
  {
   "cell_type": "markdown",
   "metadata": {},
   "source": [
    "# Upsampling 3D with single-channel stacks"
   ]
  },
  {
   "cell_type": "code",
   "execution_count": null,
   "metadata": {},
   "outputs": [],
   "source": [
    "from __future__ import print_function, unicode_literals, absolute_import, division\n",
    "import numpy as np\n",
    "import matplotlib.pyplot as plt\n",
    "%matplotlib inline\n",
    "%config InlineBackend.figure_format = 'retina'\n",
    "\n",
    "from tifffile import imread\n",
    "from csbdeep.utils import Path, download_and_extract_zip_file, plot_some, axes_dict, plot_history\n",
    "from csbdeep.utils.tf import limit_gpu_memory\n",
    "from csbdeep.io import save_training_data, load_training_data, save_tiff_imagej_compatible\n",
    "from csbdeep.data import RawData, create_patches\n",
    "from csbdeep.data.transform import anisotropic_distortions\n",
    "from csbdeep.models import Config, UpsamplingCARE"
   ]
  },
  {
   "cell_type": "markdown",
   "metadata": {},
   "source": [
    "# Define variables"
   ]
  },
  {
   "cell_type": "markdown",
   "metadata": {},
   "source": [
    "Specify data directories, image axes, aspect ratio and subsampling values:"
   ]
  },
  {
   "cell_type": "code",
   "execution_count": null,
   "metadata": {},
   "outputs": [],
   "source": [
    "# Path to get the training data\n",
    "datapath = '0-training'\n",
    "\n",
    "# Output file containing patches\n",
    "training_file = '{}/training.npz'.format(datapath)\n",
    "\n",
    "# Model name\n",
    "modelname = 'proper'\n",
    "\n",
    "# Basepath for models directory\n",
    "models = '1-models'\n",
    "\n",
    "# Order of input image axes\n",
    "axes = 'ZYX'\n",
    "\n",
    "# Aspect ratio is needed for plotting input stacks. To calculate use:\n",
    "# Z res training / XY res training --> 1.0 / 0.2690547 = 3.716716341\n",
    "aspect_mod = 3.716716341\n",
    "\n",
    "# Subsample is needed for the training. To calculate use:\n",
    "# Z res experiment / Z res training --> 3.0 / 1.0 = 3\n",
    "subsample = 3\n",
    "\n",
    "# TensorFlow uses all GPU by default, can be useful to limit it:\n",
    "# limit_gpu_memory(fraction=1/2)"
   ]
  },
  {
   "cell_type": "markdown",
   "metadata": {},
   "source": [
    "Load Hi/Lo training stacks:"
   ]
  },
  {
   "cell_type": "code",
   "execution_count": null,
   "metadata": {},
   "outputs": [],
   "source": [
    "# High and low training stacks\n",
    "x = imread('{}/low/slpGap_CARE_1.tif'.format(datapath))\n",
    "y = imread('{}/high/slpGap_CARE_1.tif'.format(datapath))\n",
    "\n",
    "# Show shapes\n",
    "print('image size =', x.shape)\n",
    "print('image size =', y.shape)"
   ]
  },
  {
   "cell_type": "markdown",
   "metadata": {},
   "source": [
    "# Inspect input stacks\n",
    "\n",
    "Plot training data for inspection:"
   ]
  },
  {
   "cell_type": "code",
   "execution_count": null,
   "metadata": {},
   "outputs": [],
   "source": [
    "# Plot XY slice\n",
    "plt.figure(figsize=(16, 15))\n",
    "plot_some(np.stack([x[50], y[50]]),\n",
    "          title_list=[['XY slice (low)', 'XY slice (high)']],\n",
    "          pmin=2, pmax=99.8)\n",
    "\n",
    "# Plot XZ slice\n",
    "plt.figure(figsize=(16, 15))\n",
    "plot_some(np.stack([np.moveaxis(x, 1, 0)[800], np.moveaxis(y, 1, 0)[800]]),\n",
    "          title_list=[['XZ slice (low)', 'XZ slice (high)']],\n",
    "          pmin=2, pmax=99.8, aspect=aspect_mod)\n",
    "\n",
    "# Plot YZ slice\n",
    "plt.figure(figsize=(16,15))\n",
    "plot_some(np.stack([np.moveaxis(x, 2, 0)[600], np.moveaxis(y, 2, 0)[600]]),\n",
    "          title_list=[['YZ slice (low)', 'YZ slice (high)']],\n",
    "          pmin=2, pmax=99.8, aspect=aspect_mod)"
   ]
  },
  {
   "cell_type": "markdown",
   "metadata": {},
   "source": [
    "# Generate training data\n",
    "\n",
    "The training data should be in two folders \"low\" and \"high\", where corresponding low and high-SNR stacks are TIFF images with identical filenames."
   ]
  },
  {
   "cell_type": "code",
   "execution_count": null,
   "metadata": {},
   "outputs": [],
   "source": [
    "# Define RawData object with paths and axes\n",
    "raw_data = RawData.from_folder (\n",
    "    basepath    = datapath,\n",
    "    source_dirs = ['low'],\n",
    "    target_dir  = 'high',\n",
    "    axes        = axes,\n",
    ")"
   ]
  },
  {
   "cell_type": "markdown",
   "metadata": {},
   "source": [
    "Specify how to modify the Z axis to mimic the Z resolution of the experimental stack."
   ]
  },
  {
   "cell_type": "code",
   "execution_count": null,
   "metadata": {},
   "outputs": [],
   "source": [
    "# Define transform between training and experimental data\n",
    "anisotropic_transform = anisotropic_distortions (\n",
    "    subsample      = subsample,\n",
    "    psf            = None,\n",
    "    subsample_axis = 'Z',\n",
    "    yield_target   = 'target',\n",
    ")"
   ]
  },
  {
   "cell_type": "markdown",
   "metadata": {},
   "source": [
    "Generate 3D patches from the synthetically undersampled low quality input stack and its corresponding high quality stack.\n",
    "\n",
    "Use a patch size that is a power of two along XYZT, or at least divisible by 8. Typically, you should use more patches the more trainings stacks you have."
   ]
  },
  {
   "cell_type": "code",
   "execution_count": null,
   "metadata": {},
   "outputs": [],
   "source": [
    "X, Y, XY_axes = create_patches (\n",
    "    raw_data            = raw_data,\n",
    "    patch_size          = (64, 64, 64),\n",
    "    n_patches_per_image = 1024,\n",
    "    transforms          = [anisotropic_transform],\n",
    "    save_file           = training_file,\n",
    ")"
   ]
  },
  {
   "cell_type": "markdown",
   "metadata": {},
   "source": [
    "# Inspect 3D patches\n",
    "\n",
    "Check dimensions are ok:"
   ]
  },
  {
   "cell_type": "code",
   "execution_count": null,
   "metadata": {},
   "outputs": [],
   "source": [
    "assert X.shape == Y.shape\n",
    "print('shape of X,Y =', X.shape)\n",
    "print(' axes of X,Y =', XY_axes)"
   ]
  },
  {
   "cell_type": "markdown",
   "metadata": {},
   "source": [
    "Plot ZY slice of some of the generated patch pairs (odd rows: *source*, even rows: *target*)"
   ]
  },
  {
   "cell_type": "code",
   "execution_count": null,
   "metadata": {},
   "outputs": [],
   "source": [
    "for i in range(2):\n",
    "    plt.figure(figsize=(12, 2))\n",
    "    sl = slice(8 * i, 8 * (i +1 )), slice(None), slice(None), 0\n",
    "    plot_some(X[sl], Y[sl],\n",
    "              title_list=[np.arange(sl[0].start, sl[0].stop)],\n",
    "              aspect=aspect_mod)\n",
    "    plt.show()\n",
    "None;"
   ]
  },
  {
   "cell_type": "markdown",
   "metadata": {},
   "source": [
    "# Load training data from disk"
   ]
  },
  {
   "cell_type": "code",
   "execution_count": null,
   "metadata": {},
   "outputs": [],
   "source": [
    "(X,Y), (X_val,Y_val), training_axes = load_training_data(training_file, validation_split=0.1, verbose=True)\n",
    "\n",
    "c = axes_dict(training_axes)['C']\n",
    "n_channel_in, n_channel_out = X.shape[c], Y.shape[c]"
   ]
  },
  {
   "cell_type": "markdown",
   "metadata": {},
   "source": [
    "# Inspect validation data\n",
    "\n",
    "Load 10% of the generated training data:"
   ]
  },
  {
   "cell_type": "code",
   "execution_count": null,
   "metadata": {},
   "outputs": [],
   "source": [
    "plt.figure(figsize=(12,2))\n",
    "plot_some(X_val[slice(0, 8), slice(None), slice(None), 0],\n",
    "          Y_val[slice(0, 8), slice(None), slice(None), 0],\n",
    "          aspect=aspect_mod)\n",
    "plt.suptitle('8 example validation patches (ZY slice, top row: source, bottom row: target)');"
   ]
  },
  {
   "cell_type": "markdown",
   "metadata": {},
   "source": [
    "# Configure CARE model\n",
    "\n",
    "This is a sensible configuration for immediate feedback, but the numbers should be increased considerably (e.g. `train_steps_per_epoch=400`, `train_batch_size=16`) to obtain a well-trained model."
   ]
  },
  {
   "cell_type": "code",
   "execution_count": null,
   "metadata": {},
   "outputs": [],
   "source": [
    "config = Config(training_axes, n_channel_in, n_channel_out, train_steps_per_epoch=400, train_batch_size=16)\n",
    "print(config)\n",
    "vars(config)"
   ]
  },
  {
   "cell_type": "code",
   "execution_count": null,
   "metadata": {},
   "outputs": [],
   "source": [
    "model = UpsamplingCARE(config, modelname, basedir=models)"
   ]
  },
  {
   "cell_type": "markdown",
   "metadata": {},
   "source": [
    "# Train CARE model\n",
    "\n",
    "Training the model will take some time. Use TensorBoard to inspect the losses and predictions during training."
   ]
  },
  {
   "cell_type": "code",
   "execution_count": null,
   "metadata": {},
   "outputs": [],
   "source": [
    "# If each epoch takes longer than 288s, the training will take more than 8h!\n",
    "history = model.train(X, Y, validation_data=(X_val, Y_val))"
   ]
  },
  {
   "cell_type": "markdown",
   "metadata": {},
   "source": [
    "Plot the final training history:"
   ]
  },
  {
   "cell_type": "code",
   "execution_count": null,
   "metadata": {},
   "outputs": [],
   "source": [
    "print(sorted(list(history.history.keys())))\n",
    "plt.figure(figsize=(16, 5))\n",
    "plot_history(history, ['loss', 'val_loss'], ['mse', 'val_mse', 'mae', 'val_mae']);"
   ]
  },
  {
   "cell_type": "markdown",
   "metadata": {},
   "source": [
    "# Evaluate CARE model\n",
    "\n",
    "Plot examples validation patches:"
   ]
  },
  {
   "cell_type": "code",
   "execution_count": null,
   "metadata": {},
   "outputs": [],
   "source": [
    "plt.figure(figsize=(12, 4))\n",
    "\n",
    "_P = model.keras_model.predict(X_val[:8])\n",
    "\n",
    "if config.probabilistic:\n",
    "    _P = _P[..., :(_P.shape[-1] // 2)]\n",
    "\n",
    "plot_some(X_val[slice(0, 8), slice(None), slice(None), 0],\n",
    "          Y_val[slice(0, 8), slice(None), slice(None), 0],\n",
    "          _P[slice(0, 8), slice(None), slice(None), 0],\n",
    "          pmax=99.5, aspect=aspect_mod)\n",
    "\n",
    "plt.suptitle('8 example validation patches (ZY slice)\\n'      \n",
    "             'top row: input (source),  '          \n",
    "             'middle row: target (ground truth),  '\n",
    "             'bottom row: predicted from source');"
   ]
  },
  {
   "cell_type": "markdown",
   "metadata": {},
   "source": [
    "# Export CARE model to Fiji/KNIME"
   ]
  },
  {
   "cell_type": "code",
   "execution_count": null,
   "metadata": {},
   "outputs": [],
   "source": [
    "model.export_TF()"
   ]
  },
  {
   "cell_type": "markdown",
   "metadata": {},
   "source": [
    "<hr style=\"height:2px;\">\n",
    "\n",
    "# Restore experiment stack\n",
    "\n",
    "Specify the aspect ratio for plotting and load the stack to be restored:"
   ]
  },
  {
   "cell_type": "code",
   "execution_count": null,
   "metadata": {},
   "outputs": [],
   "source": [
    "# Aspect ratio of experiment stack. To calculate use:\n",
    "# Z res experiment / XY res experiment --> 3.0 / 0.2853695 = 11.149\n",
    "aspect_exp = 10.512686184\n",
    "\n",
    "# Define experiment stack\n",
    "stack_exp = 'slpGap_t70s_z3_C1_t35.tif'\n",
    "\n",
    "# Load experiment stack\n",
    "#x = imread('{}/test/{}'.format(datapath, stack_exp))\n",
    "x = imread('2-results/{}'.format(stack_exp))"
   ]
  },
  {
   "cell_type": "markdown",
   "metadata": {},
   "source": [
    "Check out image dimensions:"
   ]
  },
  {
   "cell_type": "code",
   "execution_count": null,
   "metadata": {},
   "outputs": [],
   "source": [
    "print('      image size =', x.shape)\n",
    "print('      image axes =', axes)\n",
    "print('subsample factor =', subsample)"
   ]
  },
  {
   "cell_type": "markdown",
   "metadata": {},
   "source": [
    "Plot stack to be restored:"
   ]
  },
  {
   "cell_type": "code",
   "execution_count": null,
   "metadata": {},
   "outputs": [],
   "source": [
    "# Plot XY slice\n",
    "plt.figure(figsize=(12, 12))\n",
    "plt.imshow(x[18], cmap='magma')\n",
    "plt.title('XY slice')\n",
    "plt.axis('off')\n",
    "\n",
    "# Plot XZ slice\n",
    "plt.figure(figsize=(12,12))\n",
    "plt.imshow(np.moveaxis(x, 1, 0)[800], aspect=aspect_exp, cmap='magma')\n",
    "plt.title('XZ slice')\n",
    "plt.axis('off')\n",
    "\n",
    "# Plot YZ slice\n",
    "plt.figure(figsize=(12,12))\n",
    "plt.imshow(np.moveaxis(x, 2, 0)[600], aspect=aspect_exp, cmap='magma')\n",
    "plt.title('YZ slice')\n",
    "plt.axis('off')\n",
    "None;"
   ]
  },
  {
   "cell_type": "markdown",
   "metadata": {},
   "source": [
    "# Apply Upsampling 3D CARE model\n",
    "\n",
    "Load trained model from disk:"
   ]
  },
  {
   "cell_type": "code",
   "execution_count": null,
   "metadata": {},
   "outputs": [],
   "source": [
    "model = UpsamplingCARE(config=None, name=modelname, basedir=models)"
   ]
  },
  {
   "cell_type": "markdown",
   "metadata": {},
   "source": [
    "Check out stack dimensions:"
   ]
  },
  {
   "cell_type": "code",
   "execution_count": null,
   "metadata": {},
   "outputs": [],
   "source": [
    "print('input size =', x.shape)"
   ]
  },
  {
   "cell_type": "markdown",
   "metadata": {},
   "source": [
    "Apply model to experiment stack:"
   ]
  },
  {
   "cell_type": "code",
   "execution_count": null,
   "metadata": {
    "scrolled": true
   },
   "outputs": [],
   "source": [
    "%%time\n",
    "\n",
    "restored = model.predict(x, axes, subsample, n_tiles=(8, 8, 8))\n",
    "\n",
    "print(' input size =', x.shape)\n",
    "print('output size =', restored.shape)\n",
    "print()"
   ]
  },
  {
   "cell_type": "markdown",
   "metadata": {},
   "source": [
    "Save the restored image stack as a ImageJ-compatible TIFF image:"
   ]
  },
  {
   "cell_type": "code",
   "execution_count": null,
   "metadata": {},
   "outputs": [],
   "source": [
    "Path('2-results').mkdir(exist_ok=True)\n",
    "save_tiff_imagej_compatible('2-results/{}_{}'.format(model.name, stack_exp), restored, axes)"
   ]
  },
  {
   "cell_type": "markdown",
   "metadata": {},
   "source": [
    "# Inspect denoised/upsampled image\n",
    "\n",
    "Check dimensions before plotting:"
   ]
  },
  {
   "cell_type": "code",
   "execution_count": null,
   "metadata": {},
   "outputs": [],
   "source": [
    "print(' input size =', x.shape)\n",
    "print('output size =', restored.shape)"
   ]
  },
  {
   "cell_type": "markdown",
   "metadata": {},
   "source": [
    "Inspect XY slice:"
   ]
  },
  {
   "cell_type": "code",
   "execution_count": null,
   "metadata": {},
   "outputs": [],
   "source": [
    "# Plot XY slices\n",
    "plt.figure(figsize=(16,15))\n",
    "plot_some(np.stack([x[18], restored[int(subsample * 18)]]),\n",
    "          title_list=[['XY slice (source)', 'XY slice (network)']],\n",
    "          pmin=2, pmax=99.8);"
   ]
  },
  {
   "cell_type": "markdown",
   "metadata": {},
   "source": [
    "Inspect XZ slices:"
   ]
  },
  {
   "cell_type": "code",
   "execution_count": null,
   "metadata": {},
   "outputs": [],
   "source": [
    "# Plot XZ slice\n",
    "plt.figure(figsize=(16,15))\n",
    "plt.imshow(np.moveaxis(x, 1, 0)[800], aspect=aspect_exp, cmap='magma')\n",
    "plt.title('XZ slice (source)')\n",
    "plt.axis('off')\n",
    "\n",
    "plt.figure(figsize=(16,15))\n",
    "plt.imshow(np.moveaxis(restored, 1, 0)[800], aspect=aspect_mod, cmap='magma')\n",
    "plt.title('XZ slice (network)')\n",
    "plt.axis('off')\n",
    "None;"
   ]
  },
  {
   "cell_type": "markdown",
   "metadata": {},
   "source": [
    "Inspect YZ slices:"
   ]
  },
  {
   "cell_type": "code",
   "execution_count": null,
   "metadata": {},
   "outputs": [],
   "source": [
    "# Plot YZ slice\n",
    "plt.figure(figsize=(16,15))\n",
    "plt.imshow(np.moveaxis(x, 2, 0)[450], aspect=aspect_exp, cmap='magma')\n",
    "plt.title('YZ slice (source)')\n",
    "plt.axis('off')\n",
    "\n",
    "plt.figure(figsize=(16,15))\n",
    "plt.imshow(np.moveaxis(restored, 2, 0)[450], aspect=aspect_mod, cmap='magma')\n",
    "plt.title('YZ slice (network)')\n",
    "plt.axis('off')\n",
    "None;"
   ]
  },
  {
   "cell_type": "code",
   "execution_count": null,
   "metadata": {},
   "outputs": [],
   "source": []
  }
 ],
 "metadata": {
  "kernelspec": {
   "display_name": "Python 3",
   "language": "python",
   "name": "python3"
  },
  "language_info": {
   "codemirror_mode": {
    "name": "ipython",
    "version": 3
   },
   "file_extension": ".py",
   "mimetype": "text/x-python",
   "name": "python",
   "nbconvert_exporter": "python",
   "pygments_lexer": "ipython3",
   "version": "3.6.5"
  }
 },
 "nbformat": 4,
 "nbformat_minor": 2
}
